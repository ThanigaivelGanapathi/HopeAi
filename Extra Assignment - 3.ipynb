{
  "nbformat": 4,
  "nbformat_minor": 0,
  "metadata": {
    "colab": {
      "provenance": []
    },
    "kernelspec": {
      "name": "python3",
      "display_name": "Python 3"
    },
    "language_info": {
      "name": "python"
    }
  },
  "cells": [
    {
      "cell_type": "code",
      "execution_count": 2,
      "metadata": {
        "colab": {
          "base_uri": "https://localhost:8080/"
        },
        "id": "rGmHPLK6YfW6",
        "outputId": "c801023f-5b15-4d11-b584-c7b39ccf2087"
      },
      "outputs": [
        {
          "output_type": "stream",
          "name": "stdout",
          "text": [
            "Value : 10\n",
            "Correct\n"
          ]
        }
      ],
      "source": [
        "value = int(input(\"Value : \"))\n",
        "if value == 10:\n",
        "  print(\"Correct\")"
      ]
    },
    {
      "cell_type": "code",
      "source": [
        "authPassw = \"HOPE@123\"\n",
        "userPassw = input(\"Enter the Password : \")\n",
        "if userPassw == authPassw:\n",
        "  print(\"Your password is Correct\")\n",
        "else:\n",
        "  print(\"Your password is Incorrect\")"
      ],
      "metadata": {
        "colab": {
          "base_uri": "https://localhost:8080/"
        },
        "id": "1eB8-TRpY24O",
        "outputId": "50e22b17-98b2-4943-b691-321bfd8c1c83"
      },
      "execution_count": 5,
      "outputs": [
        {
          "output_type": "stream",
          "name": "stdout",
          "text": [
            "Enter the Password : sdf\n",
            "Your password is Incorrect\n"
          ]
        }
      ]
    },
    {
      "cell_type": "code",
      "source": [
        "age = int(input(\"Enter the Age : \"))\n",
        "if(age < 18):\n",
        "  print(\"Children\")\n",
        "elif(age >= 18 and age < 40):\n",
        "  print(\"Adult\")\n",
        "elif(age >= 40 and age < 60):\n",
        "  print(\"Citizen\")\n",
        "else:\n",
        "  print(\"Senior Citizen\")"
      ],
      "metadata": {
        "colab": {
          "base_uri": "https://localhost:8080/"
        },
        "id": "CWNApg9wZNCQ",
        "outputId": "dffa77c5-e237-49e6-ba2a-46d0dcbb45ce"
      },
      "execution_count": 6,
      "outputs": [
        {
          "output_type": "stream",
          "name": "stdout",
          "text": [
            "Enter the Age : 25\n",
            "Adult\n"
          ]
        }
      ]
    },
    {
      "cell_type": "code",
      "source": [
        "num = int(input(\"Enter the Number : \"))\n",
        "if(num >= 0):\n",
        "  print(\"Positive\")\n",
        "else:\n",
        "  print(\"Negative\")"
      ],
      "metadata": {
        "colab": {
          "base_uri": "https://localhost:8080/"
        },
        "id": "tO24-ruRaRVj",
        "outputId": "3f3b2302-9e4d-4e63-fa19-c751335403b6"
      },
      "execution_count": 9,
      "outputs": [
        {
          "output_type": "stream",
          "name": "stdout",
          "text": [
            "Enter the Number : -1\n",
            "Negative\n"
          ]
        }
      ]
    },
    {
      "cell_type": "code",
      "source": [
        "num = int(input(\"Enter the Number : \"))\n",
        "if(num % 5 == 0):\n",
        "  print(f\"{num} is divisible by 5\")\n",
        "else:\n",
        "  print(f\"{num} is not divisible by 5\")"
      ],
      "metadata": {
        "colab": {
          "base_uri": "https://localhost:8080/"
        },
        "id": "xwnPa9zDakF9",
        "outputId": "5c2c1a4e-8b07-48a2-fa38-36cd33e77da2"
      },
      "execution_count": 11,
      "outputs": [
        {
          "output_type": "stream",
          "name": "stdout",
          "text": [
            "Enter the Number : 2\n",
            "2 is not divisible by 5\n"
          ]
        }
      ]
    }
  ]
}