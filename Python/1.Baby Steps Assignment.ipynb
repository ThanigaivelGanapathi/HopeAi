{
  "nbformat": 4,
  "nbformat_minor": 0,
  "metadata": {
    "colab": {
      "provenance": []
    },
    "kernelspec": {
      "name": "python3",
      "display_name": "Python 3"
    },
    "language_info": {
      "name": "python"
    }
  },
  "cells": [
    {
      "cell_type": "markdown",
      "source": [
        "Welcome to Assignment-1"
      ],
      "metadata": {
        "id": "93wc4Km4Ao97"
      }
    },  
    {
      "cell_type": "code",
      "source": [
        "num1 = 10\n",
        "num2 = 30\n",
        "print(f\"Num1 = {num1}\")\n",
        "print(f\"Num2 = {num2}\")\n",
        "print(f\"Add = {num1+num2}\")"
      ],
      "metadata": {
        "colab": {
          "base_uri": "https://localhost:8080/"
        },
        "id": "axW_pqbwAYJ5",
        "outputId": "aeef31f1-6044-4625-efe9-1e70b0004831"
      },
      "execution_count": 2,
      "outputs": [
        {
          "output_type": "stream",
          "name": "stdout",
          "text": [
            "Num1 = 10\n",
            "Num2 = 30\n",
            "Add = 40\n"
          ]
        }
      ]
    },
    {
      "cell_type": "code",
      "source": [],
      "metadata": {
        "id": "6G3cJ1afBryk"
      },
      "execution_count": null,
      "outputs": []
    },        {
      "cell_type": "code",
      "source": [
        "bmi = float(input(\"Enter the BMI Index : \"))\n",
        "\n",
        "if(bmi < 18.5):\n",
        "  print(\"Under Weight\")\n",
        "elif(bmi >= 18.5 and bmi < 25):\n",
        "  print(\"Healthy\")\n",
        "elif(bmi >= 25 and bmi < 30):\n",
        "  print(\"Over Weight\")\n",
        "else:\n",
        "  print(\"Very Over Weight\")\n"
      ],
      "metadata": {
        "colab": {
          "base_uri": "https://localhost:8080/"
        },
        "id": "f0dPZ74MB8yn",
        "outputId": "ba4bf925-854f-47e1-98f4-065d6111f37d"
      },
      "execution_count": 4,
      "outputs": [
        {
          "output_type": "stream",
          "name": "stdout",
          "text": [
            "Enter the BMI Index : 35\n",
            "Very Over Weight\n"
          ]
        }
      ]
    }
  ]
}
