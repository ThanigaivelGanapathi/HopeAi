{
  "nbformat": 4,
  "nbformat_minor": 0,
  "metadata": {
    "colab": {
      "provenance": []
    },
    "kernelspec": {
      "name": "python3",
      "display_name": "Python 3"
    },
    "language_info": {
      "name": "python"
    }
  },
  "cells": [
    {
      "cell_type": "code",
      "execution_count": 3,
      "metadata": {
        "colab": {
          "base_uri": "https://localhost:8080/"
        },
        "id": "4vMw7iOyTVEn",
        "outputId": "1c95984a-50d7-4376-84ed-e59c5f42bbe2"
      },
      "outputs": [
        {
          "output_type": "stream",
          "name": "stdout",
          "text": [
            "0\n",
            "1\n",
            "2\n",
            "3\n",
            "4\n",
            "5\n",
            "6\n",
            "7\n",
            "8\n",
            "9\n",
            "10\n",
            "11\n",
            "12\n",
            "13\n",
            "14\n",
            "15\n",
            "16\n",
            "17\n",
            "18\n",
            "19\n"
          ]
        }
      ],
      "source": [
        "for i in range(20):\n",
        "  print(i)"
      ]
    },
    {
      "cell_type": "code",
      "source": [
        "for i in range(10,20):\n",
        "  print(i,end=\" \")"
      ],
      "metadata": {
        "colab": {
          "base_uri": "https://localhost:8080/"
        },
        "id": "N5D5hcaKUqCt",
        "outputId": "469d0217-98b4-4ebf-df03-ce6017590a2e"
      },
      "execution_count": 6,
      "outputs": [
        {
          "output_type": "stream",
          "name": "stdout",
          "text": [
            "10 11 12 13 14 15 16 17 18 19 "
          ]
        }
      ]
    },
    {
      "cell_type": "code",
      "source": [
        "lst = [10, 20, 14, 55, 43, 87, 76]\n",
        "\n",
        "print(f\"Number of item in the Lst : {len(lst)}\")\n"
      ],
      "metadata": {
        "colab": {
          "base_uri": "https://localhost:8080/"
        },
        "id": "cTayV79dUyIa",
        "outputId": "dc79c9c5-8596-4121-b45a-d5a15c3610e0"
      },
      "execution_count": 7,
      "outputs": [
        {
          "output_type": "stream",
          "name": "stdout",
          "text": [
            "Number of item in the Lst : 7\n"
          ]
        }
      ]
    },
    {
      "cell_type": "code",
      "source": [
        "word = \"Artificial Intelligence\"\n",
        "for letter in word:\n",
        "  print(letter)\n"
      ],
      "metadata": {
        "colab": {
          "base_uri": "https://localhost:8080/"
        },
        "id": "-n9pMf1oVIiX",
        "outputId": "bb893039-d3de-43de-de70-349572ee578c"
      },
      "execution_count": 8,
      "outputs": [
        {
          "output_type": "stream",
          "name": "stdout",
          "text": [
            "A\n",
            "r\n",
            "t\n",
            "i\n",
            "f\n",
            "i\n",
            "c\n",
            "i\n",
            "a\n",
            "l\n",
            " \n",
            "I\n",
            "n\n",
            "t\n",
            "e\n",
            "l\n",
            "l\n",
            "i\n",
            "g\n",
            "e\n",
            "n\n",
            "c\n",
            "e\n"
          ]
        }
      ]
    },
    {
      "cell_type": "code",
      "source": [
        "tupl =(1, 'Welcome', 2, 'Hope')\n",
        "print(tupl)"
      ],
      "metadata": {
        "colab": {
          "base_uri": "https://localhost:8080/"
        },
        "id": "W0-_tKLrVcVw",
        "outputId": "96e65531-6496-47c7-d7af-1b49c6af7dbc"
      },
      "execution_count": 9,
      "outputs": [
        {
          "output_type": "stream",
          "name": "stdout",
          "text": [
            "(1, 'Welcome', 2, 'Hope')\n"
          ]
        }
      ]
    },
    {
      "cell_type": "code",
      "source": [
        "tupl1 = (0, 1, 2, 3)\n",
        "tupl2 = ('python','HOPE')\n",
        "lst = []\n",
        "lst.append(tupl1)\n",
        "lst.append(tupl2)\n",
        "print(tuple(lst))\n",
        "\n"
      ],
      "metadata": {
        "colab": {
          "base_uri": "https://localhost:8080/"
        },
        "id": "6sCAeKf6WA6B",
        "outputId": "4b1ed3d4-3fd6-40ba-b980-97a49eb91901"
      },
      "execution_count": 29,
      "outputs": [
        {
          "output_type": "stream",
          "name": "stdout",
          "text": [
            "((0, 1, 2, 3), ('python', 'HOPE'))\n"
          ]
        }
      ]
    },
    {
      "cell_type": "code",
      "source": [
        "for num in (20,10,16,19,25,1,276,188):\n",
        "  if num % 2 != 0 :\n",
        "    print(f\"{num} is Odd\")"
      ],
      "metadata": {
        "colab": {
          "base_uri": "https://localhost:8080/"
        },
        "id": "qCrbdr5CXj_i",
        "outputId": "3b85df9a-b683-4eec-a584-01da78f725d2"
      },
      "execution_count": 31,
      "outputs": [
        {
          "output_type": "stream",
          "name": "stdout",
          "text": [
            "19 is Odd\n",
            "25 is Odd\n",
            "1 is Odd\n"
          ]
        }
      ]
    },
    {
      "cell_type": "code",
      "source": [
        "for num in (20,10,16,19,25,1,276,188):\n",
        "  if num % 2 == 0 :\n",
        "    print(f\"{num} is Even\")"
      ],
      "metadata": {
        "colab": {
          "base_uri": "https://localhost:8080/"
        },
        "id": "1Ky45H9IXzgH",
        "outputId": "97b8097f-b760-4175-a96b-70bbf2125038"
      },
      "execution_count": 32,
      "outputs": [
        {
          "output_type": "stream",
          "name": "stdout",
          "text": [
            "20 is Even\n",
            "10 is Even\n",
            "16 is Even\n",
            "276 is Even\n",
            "188 is Even\n"
          ]
        }
      ]
    }
  ]
}