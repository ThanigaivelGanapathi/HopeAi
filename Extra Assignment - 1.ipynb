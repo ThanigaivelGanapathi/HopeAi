{
  "nbformat": 4,
  "nbformat_minor": 0,
  "metadata": {
    "colab": {
      "provenance": []
    },
    "kernelspec": {
      "name": "python3",
      "display_name": "Python 3"
    },
    "language_info": {
      "name": "python"
    }
  },
  "cells": [
    {
      "cell_type": "code",
      "source": [
        "print(\"HOPE AI\")"
      ],
      "metadata": {
        "colab": {
          "base_uri": "https://localhost:8080/"
        },
        "id": "lRSJwXuyLPL3",
        "outputId": "4509a464-abe7-434e-db82-fed5bf0a3b45"
      },
      "execution_count": 1,
      "outputs": [
        {
          "output_type": "stream",
          "name": "stdout",
          "text": [
            "HOPE AI\n"
          ]
        }
      ]
    },
    {
      "cell_type": "code",
      "source": [
        "input(\"Enter your institute name?: \")"
      ],
      "metadata": {
        "colab": {
          "base_uri": "https://localhost:8080/",
          "height": 53
        },
        "id": "1Fx2vVY5LVRA",
        "outputId": "9ad9fb2e-8e51-4adb-8148-12ff8530a1f4"
      },
      "execution_count": 3,
      "outputs": [
        {
          "name": "stdout",
          "output_type": "stream",
          "text": [
            "Enter your institute name?: HOPE AI\n"
          ]
        },
        {
          "output_type": "execute_result",
          "data": {
            "text/plain": [
              "'HOPE AI'"
            ],
            "application/vnd.google.colaboratory.intrinsic+json": {
              "type": "string"
            }
          },
          "metadata": {},
          "execution_count": 3
        }
      ]
    },
    {
      "cell_type": "code",
      "source": [
        "input(\"Enter you name : \")\n",
        "int(input(\"Enter you age: \"))\n",
        "input(\"Enter you school name:\")\n",
        "input(\"Enter your degree : \")"
      ],
      "metadata": {
        "colab": {
          "base_uri": "https://localhost:8080/",
          "height": 105
        },
        "id": "kOzSRPv9LmOC",
        "outputId": "3c14bc46-240c-4af6-f252-d4a267e0c91f"
      },
      "execution_count": 5,
      "outputs": [
        {
          "name": "stdout",
          "output_type": "stream",
          "text": [
            "Enter you name : Thanigaivel G\n",
            "Enter you age: 24\n",
            "Enter you school name:RMK Mat. Hr. Sec. School\n",
            "Enter your degree : B.E CSE\n"
          ]
        },
        {
          "output_type": "execute_result",
          "data": {
            "text/plain": [
              "'B.E CSE'"
            ],
            "application/vnd.google.colaboratory.intrinsic+json": {
              "type": "string"
            }
          },
          "metadata": {},
          "execution_count": 5
        }
      ]
    },
    {
      "cell_type": "markdown",
      "source": [
        "Addition"
      ],
      "metadata": {
        "id": "ayXylRY8L8t8"
      }
    },
    {
      "cell_type": "code",
      "source": [
        "a = int(input())\n",
        "b = int(input())\n",
        "print(f\"add = {a+b}\")"
      ],
      "metadata": {
        "colab": {
          "base_uri": "https://localhost:8080/"
        },
        "id": "PIAIrx61L_sy",
        "outputId": "89a5b434-3a03-4e86-9788-43cc1c3b42bc"
      },
      "execution_count": 6,
      "outputs": [
        {
          "output_type": "stream",
          "name": "stdout",
          "text": [
            "5\n",
            "5\n",
            "add = 10\n"
          ]
        }
      ]
    },
    {
      "cell_type": "markdown",
      "source": [
        "Subtraction"
      ],
      "metadata": {
        "id": "2O04xSErMO9d"
      }
    },
    {
      "cell_type": "code",
      "source": [
        "a = int(input())\n",
        "b = int(input())\n",
        "print(f\"Sub = {a-b}\")"
      ],
      "metadata": {
        "colab": {
          "base_uri": "https://localhost:8080/"
        },
        "id": "eyegyCunMUJD",
        "outputId": "5c9c6571-13bf-4a69-9840-d5fb0e9272b0"
      },
      "execution_count": 7,
      "outputs": [
        {
          "output_type": "stream",
          "name": "stdout",
          "text": [
            "10\n",
            "5\n",
            "Sub = 5\n"
          ]
        }
      ]
    },
    {
      "cell_type": "markdown",
      "source": [
        "Multiplication"
      ],
      "metadata": {
        "id": "Gk4RTOQ6MbKA"
      }
    },
    {
      "cell_type": "code",
      "source": [
        "a = int(input())\n",
        "b = int(input())\n",
        "print(f\"Mul = {a*b}\")"
      ],
      "metadata": {
        "colab": {
          "base_uri": "https://localhost:8080/"
        },
        "id": "xa6I1XQvMdXw",
        "outputId": "1a4ec999-68e2-45ab-ad2f-824413f67d95"
      },
      "execution_count": 8,
      "outputs": [
        {
          "output_type": "stream",
          "name": "stdout",
          "text": [
            "5\n",
            "3\n",
            "Mul = 15\n"
          ]
        }
      ]
    },
    {
      "cell_type": "markdown",
      "source": [
        "Float Division"
      ],
      "metadata": {
        "id": "XwfBl89RMjir"
      }
    },
    {
      "cell_type": "code",
      "source": [
        "a = int(input())\n",
        "b = int(input())\n",
        "print(f\"Float Div = {a/b}\")"
      ],
      "metadata": {
        "colab": {
          "base_uri": "https://localhost:8080/"
        },
        "id": "eP9Hwp5PMppm",
        "outputId": "1af88f48-18c4-4a5c-b7f4-abb0a9674f7b"
      },
      "execution_count": 9,
      "outputs": [
        {
          "output_type": "stream",
          "name": "stdout",
          "text": [
            "76\n",
            "31\n",
            "Float Div = 2.4516129032258065\n"
          ]
        }
      ]
    },
    {
      "cell_type": "markdown",
      "source": [
        "Floor Division"
      ],
      "metadata": {
        "id": "YEceHnXCM5KV"
      }
    },
    {
      "cell_type": "code",
      "source": [
        "a = int(input())\n",
        "b = int(input())\n",
        "print(f\"Floor Div = {a//b}\")"
      ],
      "metadata": {
        "colab": {
          "base_uri": "https://localhost:8080/"
        },
        "id": "U61n8uGIM9X2",
        "outputId": "cdc5bf1b-e8c2-4c81-902d-cbc591298ec3"
      },
      "execution_count": 10,
      "outputs": [
        {
          "output_type": "stream",
          "name": "stdout",
          "text": [
            "76\n",
            "31\n",
            "Float Div = 2\n"
          ]
        }
      ]
    },
    {
      "cell_type": "markdown",
      "source": [
        "Modulo"
      ],
      "metadata": {
        "id": "OC_J3PVRNDdS"
      }
    },
    {
      "cell_type": "code",
      "source": [
        "a = int(input())\n",
        "b = int(input())\n",
        "print(f\"Float Div = {a%b}\")"
      ],
      "metadata": {
        "colab": {
          "base_uri": "https://localhost:8080/"
        },
        "id": "pn3uMHFtNMA9",
        "outputId": "347b701c-8495-4226-ce93-892fea910062"
      },
      "execution_count": 11,
      "outputs": [
        {
          "output_type": "stream",
          "name": "stdout",
          "text": [
            "76\n",
            "31\n",
            "Float Div = 14\n"
          ]
        }
      ]
    },
    {
      "cell_type": "markdown",
      "source": [
        "Power"
      ],
      "metadata": {
        "id": "hshsQRcHNQmc"
      }
    },
    {
      "cell_type": "code",
      "source": [
        "a = int(input())\n",
        "b = int(input())\n",
        "print(f\"Float Div = {a**b}\")"
      ],
      "metadata": {
        "colab": {
          "base_uri": "https://localhost:8080/"
        },
        "id": "pUwKB7RkNUY6",
        "outputId": "0b5f6e09-3d0f-4a8c-ef2b-0bf60ea470d0"
      },
      "execution_count": 12,
      "outputs": [
        {
          "output_type": "stream",
          "name": "stdout",
          "text": [
            "4\n",
            "4\n",
            "Float Div = 256\n"
          ]
        }
      ]
    }
  ]
}