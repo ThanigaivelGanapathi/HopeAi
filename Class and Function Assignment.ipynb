{
  "nbformat": 4,
  "nbformat_minor": 0,
  "metadata": {
    "colab": {
      "provenance": []
    },
    "kernelspec": {
      "name": "python3",
      "display_name": "Python 3"
    },
    "language_info": {
      "name": "python"
    }
  },
  "cells": [
    {
      "cell_type": "code",
      "execution_count": 2,
      "metadata": {
        "colab": {
          "base_uri": "https://localhost:8080/"
        },
        "id": "ri1t4WGmbbSr",
        "outputId": "71013c05-779f-449e-d36d-2e9bcaef0ca2"
      },
      "outputs": [
        {
          "output_type": "stream",
          "name": "stdout",
          "text": [
            "Sub-fields in AI are:\n",
            "Machine Learning\n",
            "Neural Networks\n",
            "Vision\n",
            "Robotics\n",
            "Speech Processing\n",
            "Natural Language Processing\n"
          ]
        }
      ],
      "source": [
        "class SubfieldsInAI:\n",
        "  def Subfields():\n",
        "     AI_SUB_FIELDS = [\"Machine Learning\",\"Neural Networks\",\"Vision\",\"Robotics\",\"Speech Processing\",\"Natural Language Processing\"]\n",
        "     print(\"Sub-fields in AI are:\")\n",
        "     for subfield in AI_SUB_FIELDS:\n",
        "      print(subfield)\n",
        "\n",
        "SubfieldsInAI.Subfields()"
      ]
    },
    {
      "cell_type": "code",
      "source": [
        "class OddEven:\n",
        "  def OddEven(number):\n",
        "    if(number % 2 == 0):\n",
        "      return \"Even\"\n",
        "    else:\n",
        "      return \"Odd\"\n",
        "\n",
        "num = int(input(\"Enter the Number : \"))\n",
        "res = OddEven.OddEven(num)\n",
        "print(f\"{num} is {res} number\")\n"
      ],
      "metadata": {
        "colab": {
          "base_uri": "https://localhost:8080/"
        },
        "id": "Xo8BY7ffcudV",
        "outputId": "d7fda0b5-52de-4e8a-ee17-b7982dc9250a"
      },
      "execution_count": 5,
      "outputs": [
        {
          "output_type": "stream",
          "name": "stdout",
          "text": [
            "Enter the Number : 10\n",
            "10 is Even number\n"
          ]
        }
      ]
    },
    {
      "cell_type": "code",
      "source": [
        "class ElegiblityForMarriage:\n",
        "  def Elegible(gender,age):\n",
        "    if(gender == \"MALE\"):\n",
        "      if(age >= 21):\n",
        "        return \"Eligible\"\n",
        "      else:\n",
        "        return \"Not Eligible\"\n",
        "    elif(gender == \"FEMALE\"):\n",
        "      if(age >= 18):\n",
        "        return \"Eligible\"\n",
        "      else:\n",
        "        return \"Not Eligible\"\n",
        "\n",
        "\n",
        "gender = input(\"Enter Your Gender : \")\n",
        "age = int(input(\"Enter Your Age : \"))\n",
        "print(ElegiblityForMarriage.Elegible(gender.upper(),age))\n"
      ],
      "metadata": {
        "colab": {
          "base_uri": "https://localhost:8080/"
        },
        "id": "2KosE-0udxX5",
        "outputId": "9ec59ada-32bc-49f7-b7c3-1cdb702e4069"
      },
      "execution_count": 6,
      "outputs": [
        {
          "output_type": "stream",
          "name": "stdout",
          "text": [
            "Enter Your Gender : male\n",
            "Enter Your Age : 24\n",
            "Eligible\n"
          ]
        }
      ]
    },
    {
      "cell_type": "code",
      "source": [
        "class FindPercent:\n",
        "  def percentage():\n",
        "    print(f\"Total : {sum(marks)}\")\n",
        "    print(f\"Percentage : {(sum(marks)/ 500) * 100}\")\n",
        "\n",
        "\n",
        "marks =[]\n",
        "for mark in range(5):\n",
        "  marks.append(int(input(f\"Enter the Mark of Subject {mark + 1} : \")))\n",
        "\n",
        "\n",
        "\n",
        "FindPercent.percentage()\n",
        "\n",
        "# Subject1= 98\n",
        "# Subject2= 87\n",
        "# Subject3= 95\n",
        "# Subject4= 95\n",
        "# Subject5= 93\n",
        "# Total : 468\n",
        "# Percentage : 93.60000000000001"
      ],
      "metadata": {
        "colab": {
          "base_uri": "https://localhost:8080/"
        },
        "id": "pLfN9pPRe0Lh",
        "outputId": "59b7b039-e7e2-4a5e-8622-6c346a9bcfd2"
      },
      "execution_count": 10,
      "outputs": [
        {
          "output_type": "stream",
          "name": "stdout",
          "text": [
            "Enter the Mark of Subject 1 : 98\n",
            "Enter the Mark of Subject 2 : 87\n",
            "Enter the Mark of Subject 3 : 95\n",
            "Enter the Mark of Subject 4 : 95\n",
            "Enter the Mark of Subject 5 : 93\n",
            "Total : 468\n",
            "Percentage : 93.60000000000001\n"
          ]
        }
      ]
    },
    {
      "cell_type": "code",
      "source": [
        "def Triangle():\n",
        "  height = float(input(\"Enter the Height : \"))\n",
        "  breadth = float(input(\"Enter the Breadth : \"))\n",
        "  print(\"Area Formula : (height1*breadth) / 2\")\n",
        "  print(f\"Area of Triangle : {(height*breadth) / 2}\")\n",
        "\n",
        "  height1 = float(input(\"Enter the Height1 : \"))\n",
        "  height2 = float(input(\"Enter the Height2 : \"))\n",
        "  breadth = float(input(\"Enter the Breadth : \"))\n",
        "  print(\"Perimeter Formula : Height1+Height2+Breadth\")\n",
        "  print(f\"Perimeter of Triangle : {height1 + height2 + breadth}\")\n",
        "\n",
        "Triangle()\n"
      ],
      "metadata": {
        "colab": {
          "base_uri": "https://localhost:8080/"
        },
        "id": "h4weJ9tkgrzK",
        "outputId": "df4e343d-618c-4d9c-a848-1e0a9f20b340"
      },
      "execution_count": 19,
      "outputs": [
        {
          "output_type": "stream",
          "name": "stdout",
          "text": [
            "Enter the Height : 32\n",
            "Enter the Breadth : 34\n",
            "Area Formula : (height1*breadth) / 2\n",
            "Area of Triangle : 544.0\n",
            "Enter the Height1 : 2\n",
            "Enter the Height2 : 4\n",
            "Enter the Breadth : 4\n",
            "Perimeter Formula : Height1+Height2+Breadth\n",
            "Perimeter of Triangle : 10.0\n"
          ]
        }
      ]
    },
    {
      "cell_type": "code",
      "source": [],
      "metadata": {
        "id": "osFiWQuugSO5"
      },
      "execution_count": null,
      "outputs": []
    }
  ]
}